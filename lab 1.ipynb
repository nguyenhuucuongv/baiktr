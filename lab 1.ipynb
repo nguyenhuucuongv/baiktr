{
  "cells": [
    {
      "cell_type": "markdown",
      "metadata": {
        "id": "view-in-github",
        "colab_type": "text"
      },
      "source": [
        "<a href=\"https://colab.research.google.com/github/nguyenhuucuongv/baiktr/blob/main/lab%201.ipynb\" target=\"_parent\"><img src=\"https://colab.research.google.com/assets/colab-badge.svg\" alt=\"Open In Colab\"/></a>"
      ]
    },
    {
      "cell_type": "code",
      "execution_count": null,
      "metadata": {
        "id": "zwFnJsE6vjf8"
      },
      "outputs": [],
      "source": [
        "graph = {\n",
        "    'S': ['A', 'B', 'C'],\n",
        "    'A': ['D'],\n",
        "    'B': ['E'],\n",
        "    'C': ['F', 'J'],\n",
        "    'D': ['G'],\n",
        "    'E': ['I', 'J'],\n",
        "    'F': ['S'],\n",
        "    'G': ['H'],\n",
        "    'I': [],\n",
        "    'J': [],\n",
        "    'H': ['D']\n",
        "}\n"
      ]
    },
    {
      "cell_type": "code",
      "source": [
        "def bfs_all(graph, start):\n",
        "    visited = set()\n",
        "    queue = [start]\n",
        "\n",
        "    while queue:\n",
        "        node = queue.pop(0)\n",
        "        if node not in visited:\n",
        "            visited.add(node)\n",
        "            print(node, end=' ')\n",
        "            queue.extend(neighbor for neighbor in graph[node] if neighbor not in visited)\n",
        "\n",
        "# Graph as a dictionary\n",
        "graph = {\n",
        "    'S': ['A', 'B'],\n",
        "    'A': ['S', 'C', 'D'],\n",
        "    'B': ['S', 'D'],\n",
        "    'C': ['A', 'D'],\n",
        "    'D': ['A', 'B', 'C']\n",
        "}\n",
        "\n",
        "# Gọi BFS từ đỉnh S\n",
        "print(\"Duyệt tất cả các đỉnh từ S:\")\n",
        "bfs_all(graph, 'S')\n",
        "print()\n",
        "\n"
      ],
      "metadata": {
        "colab": {
          "base_uri": "https://localhost:8080/"
        },
        "id": "t7KTG1W301eX",
        "outputId": "b87cf959-f6b6-4225-c14b-44514bc195de"
      },
      "execution_count": null,
      "outputs": [
        {
          "output_type": "stream",
          "name": "stdout",
          "text": [
            "Duyệt tất cả các đỉnh từ S:\n",
            "S A B C D \n"
          ]
        }
      ]
    },
    {
      "cell_type": "code",
      "source": [
        "def bfs_path(graph, start, goal):\n",
        "    visited = set()\n",
        "    queue = [start]\n",
        "    parent = {start: None}\n",
        "\n",
        "    while queue:\n",
        "        node = queue.pop(0)\n",
        "        if node not in visited:\n",
        "            visited.add(node)\n",
        "            if node == goal:\n",
        "                break\n",
        "            for neighbor in graph[node]:\n",
        "                if neighbor not in visited and neighbor not in queue:\n",
        "                    queue.append(neighbor)\n",
        "                    parent[neighbor] = node\n",
        "\n",
        "    # Tìm đường đi từ goal đến start\n",
        "    path = []\n",
        "    if goal in parent:\n",
        "        while goal is not None:\n",
        "            path.append(goal)\n",
        "            goal = parent[goal]\n"
      ],
      "metadata": {
        "id": "Wo4DFUE8MRdt"
      },
      "execution_count": null,
      "outputs": []
    },
    {
      "cell_type": "code",
      "source": [
        "def dfs(graph, start, goal):\n",
        "    visited = {}  # Dictionary to store visited nodes and their parents\n",
        "    stack = [start]  # Stack to hold the nodes to be explored\n",
        "    path = []  # To store the final path from start to goal\n",
        "\n",
        "    # Perform DFS\n",
        "    while len(stack) != 0:\n",
        "        s = stack.pop()\n",
        "\n",
        "        # If goal is reached, construct the path\n",
        "        if s == goal:\n",
        "            path.append(goal)\n",
        "            # Trace back the path using the visited dictionary\n",
        "            while s in visited:\n",
        "                path.append(visited[s])\n",
        "                s = visited[s]\n",
        "            return path[::-1]  # Return the reversed path (from start to goal)\n",
        "\n",
        "        # If node is not in the graph, skip it\n",
        "        if s not in graph:\n",
        "            continue\n",
        "\n",
        "        # Explore the neighbors\n",
        "        for neighbor in graph[s]:\n",
        "            if neighbor not in visited:  # Only visit unvisited nodes\n",
        "                stack.append(neighbor)\n",
        "                visited[neighbor] = s  # Mark the current node as the parent of the neighbor\n",
        "\n",
        "    return path  # Return empty path if goal is not found\n",
        "\n"
      ],
      "metadata": {
        "id": "CA1uE_AgMKrr"
      },
      "execution_count": null,
      "outputs": []
    },
    {
      "cell_type": "code",
      "source": [
        "# Recursive DFS function to visit all nodes\n",
        "def dfs(graph, node, visited):\n",
        "    if node not in visited:\n",
        "        visited.append(node)  # Append current node to the visited list\n",
        "        for k in graph[node]:  # Explore neighbors of the node\n",
        "            dfs(graph, k, visited)  # Recursive DFS call for neighbors\n",
        "    return visited\n",
        "\n",
        "# Another DFS function (Non-recursive, finds path from start to goal)\n",
        "def dfs_find_path(graph, start, goal):\n",
        "    visited = {}  # Dictionary to store visited nodes and their parents\n",
        "    stack = [start]  # Stack to hold the nodes to be explored\n",
        "    path = []  # To store the final path from start to goal\n",
        "\n",
        "    # Perform DFS\n",
        "    while len(stack) != 0:\n",
        "        s = stack.pop()\n",
        "\n",
        "        # If goal is reached, construct the path\n",
        "        if s == goal:\n",
        "            path.append(goal)\n",
        "            # Trace back the path using the visited dictionary\n",
        "            while s in visited:\n",
        "                path.append(visited[s])\n",
        "                s = visited[s]\n",
        "            return path[::-1]  # Return the reversed path (from start to goal)\n",
        "\n",
        "        # If node is not in the graph, skip it\n",
        "        if s not in graph:\n",
        "            continue\n",
        "\n",
        "        # Explore the neighbors\n",
        "        for neighbor in graph[s]:\n",
        "            if neighbor not in visited:  # Only visit unvisited nodes\n",
        "                stack.append(neighbor)\n",
        "                visited[neighbor] = s  # Mark the current node as the parent of the neighbor\n",
        "\n",
        "    return path  # Return empty path if goal is not found\n",
        "\n",
        "# Example graph as a dictionary\n",
        "graph = {\n",
        "    'S': ['A', 'B'],\n",
        "    'A': ['S', 'C', 'D'],\n",
        "    'B': ['S', 'D', 'E'],\n",
        "    'C': ['A', 'D'],\n",
        "    'D': ['A', 'B', 'C', 'E'],\n",
        "    'E': ['B', 'D', 'J'],\n",
        "    'J': ['E']\n",
        "}\n",
        "\n",
        "# Calling the recursive DFS to visit all nodes from 'S'\n",
        "print(\"Duyệt tất cả các đỉnh từ S:\")\n",
        "visited = dfs(graph, 'S', [])  # Start DFS from node 'S'\n",
        "print(visited)\n",
        "\n",
        "# Calling the\n"
      ],
      "metadata": {
        "colab": {
          "base_uri": "https://localhost:8080/"
        },
        "id": "V4AHAd70mLhT",
        "outputId": "f9e1218a-5c75-4508-a1fc-8082b5abe313"
      },
      "execution_count": null,
      "outputs": [
        {
          "output_type": "stream",
          "name": "stdout",
          "text": [
            "Duyệt tất cả các đỉnh từ S:\n",
            "['S', 'A', 'C', 'D', 'B', 'E', 'J']\n"
          ]
        }
      ]
    },
    {
      "cell_type": "code",
      "source": [
        "def dfs_path(graph, start, goal, visited=None, path=None):\n",
        "    if visited is None:\n",
        "        visited = set()\n",
        "    if path is None:\n",
        "        path = []\n",
        "\n",
        "    visited.add(start)\n",
        "    path.append(start)\n",
        "\n",
        "    if start == goal:\n",
        "        return path.copy()  # Trả về bản sao của path nếu đã đến đích\n",
        "\n",
        "    for neighbor in graph[start]:\n",
        "        if neighbor not in visited:\n",
        "            result = dfs_path(graph, neighbor, goal, visited, path)\n",
        "            if result is not None:\n",
        "                return result  # Nếu tìm thấy đường đi, trả về đường đi\n",
        "\n",
        "    path.pop()  # Loại bỏ đỉnh khi không tìm thấy đường đi\n",
        "    return None  # Trả về None nếu không tìm thấy đường đi\n",
        "\n",
        "# Graph as a dictionary\n",
        "graph = {\n",
        "    'S': ['A', 'B'],\n",
        "    'A': ['S', 'C', 'D'],\n",
        "    'B': ['S', 'D', 'E'],\n",
        "    'C': ['A', 'D'],\n",
        "    'D': ['A', 'B', 'C', 'E'],\n",
        "    'E': ['B', 'D', 'J'],\n",
        "    'J': ['E']\n",
        "}\n",
        "\n",
        "# Tìm đường đi từ S đến J\n",
        "path_to_j = dfs_path(graph, 'S', 'J')\n",
        "print(\"Đường đi từ S đến J:\", path_to_j)\n"
      ],
      "metadata": {
        "colab": {
          "base_uri": "https://localhost:8080/"
        },
        "id": "CuXubuGTMZ4B",
        "outputId": "e8b0c662-7a3a-47b5-9823-2d11ed9b59e1"
      },
      "execution_count": null,
      "outputs": [
        {
          "output_type": "stream",
          "name": "stdout",
          "text": [
            "Đường đi từ S đến J: ['S', 'A', 'C', 'D', 'B', 'E', 'J']\n"
          ]
        }
      ]
    }
  ],
  "metadata": {
    "colab": {
      "provenance": [],
      "include_colab_link": true
    },
    "kernelspec": {
      "display_name": "Python 3",
      "name": "python3"
    }
  },
  "nbformat": 4,
  "nbformat_minor": 0
}