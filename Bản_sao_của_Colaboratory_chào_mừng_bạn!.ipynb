{
  "cells": [
    {
      "cell_type": "markdown",
      "metadata": {
        "id": "view-in-github",
        "colab_type": "text"
      },
      "source": [
        "<a href=\"https://colab.research.google.com/github/nguyenhuucuongv/baiktr/blob/main/B%E1%BA%A3n_sao_c%E1%BB%A7a_Colaboratory_ch%C3%A0o_m%E1%BB%ABng_b%E1%BA%A1n!.ipynb\" target=\"_parent\"><img src=\"https://colab.research.google.com/assets/colab-badge.svg\" alt=\"Open In Colab\"/></a>"
      ]
    },
    {
      "cell_type": "code",
      "execution_count": null,
      "metadata": {
        "id": "zwFnJsE6vjf8"
      },
      "outputs": [],
      "source": [
        "graph = {\n",
        "    'S': ['A', 'B', 'C'],\n",
        "    'A': ['D'],\n",
        "    'B': ['E'],\n",
        "    'C': ['F', 'J'],\n",
        "    'D': ['G'],\n",
        "    'E': ['I', 'J'],\n",
        "    'F': ['S'],\n",
        "    'G': ['H'],\n",
        "    'I': [],\n",
        "    'J': [],\n",
        "    'H': ['D']\n",
        "}\n"
      ]
    },
    {
      "cell_type": "code",
      "source": [
        "def bfs_all(graph, start):\n",
        "    visited = set()\n",
        "    queue = [start]\n",
        "\n",
        "    while queue:\n",
        "        node = queue.pop(0)\n",
        "        if node not in visited:\n",
        "            visited.add(node)\n",
        "            print(node, end=' ')\n",
        "            queue.extend(neighbor for neighbor in graph[node] if neighbor not in visited)\n",
        "\n",
        "# Graph as a dictionary\n",
        "graph = {\n",
        "    'S': ['A', 'B'],\n",
        "    'A': ['S', 'C', 'D'],\n",
        "    'B': ['S', 'D'],\n",
        "    'C': ['A', 'D'],\n",
        "    'D': ['A', 'B', 'C']\n",
        "}\n",
        "\n",
        "# Gọi BFS từ đỉnh S\n",
        "print(\"Duyệt tất cả các đỉnh từ S:\")\n",
        "bfs_all(graph, 'S')\n",
        "print()\n"
      ],
      "metadata": {
        "id": "CA1uE_AgMKrr",
        "outputId": "e8fed8d7-52ce-46bd-8e99-3ed74d1c428e",
        "colab": {
          "base_uri": "https://localhost:8080/"
        }
      },
      "execution_count": null,
      "outputs": [
        {
          "output_type": "stream",
          "name": "stdout",
          "text": [
            "Duyệt tất cả các đỉnh từ S:\n",
            "S A B C D \n"
          ]
        }
      ]
    },
    {
      "cell_type": "code",
      "source": [
        "def bfs_path(graph, start, goal):\n",
        "    visited = set()\n",
        "    queue = [start]\n",
        "    parent = {start: None}\n",
        "\n",
        "    while queue:\n",
        "        node = queue.pop(0)\n",
        "        if node not in visited:\n",
        "            visited.add(node)\n",
        "            if node == goal:\n",
        "                break\n",
        "            for neighbor in graph[node]:\n",
        "                if neighbor not in visited and neighbor not in queue:\n",
        "                    queue.append(neighbor)\n",
        "                    parent[neighbor] = node\n",
        "\n",
        "    # Tìm đường đi từ goal đến start\n",
        "    path = []\n",
        "    if goal in parent:\n",
        "        while goal is not None:\n",
        "            path.append(goal)\n",
        "            goal = parent[goal]\n"
      ],
      "metadata": {
        "id": "Wo4DFUE8MRdt"
      },
      "execution_count": null,
      "outputs": []
    },
    {
      "cell_type": "code",
      "source": [
        "def dfs_all(graph, start, visited=None):\n",
        "    if visited is None:\n",
        "        visited = set()\n",
        "\n",
        "    visited.add(start)\n",
        "    print(start, end=' ')\n",
        "\n",
        "    for neighbor in graph[start]:\n",
        "        if neighbor not in visited:\n",
        "            dfs_all(graph, neighbor, visited)\n",
        "\n",
        "# Graph as a dictionary\n",
        "graph = {\n",
        "    'S': ['A', 'B'],\n",
        "    'A': ['S', 'C', 'D'],\n",
        "    'B': ['S', 'D', 'E'],\n",
        "    'C': ['A', 'D'],\n",
        "    'D': ['A', 'B', 'C', 'E'],\n",
        "    'E': ['B', 'D', 'J'],\n",
        "    'J': ['E']\n",
        "}\n",
        "\n",
        "# Gọi DFS từ đỉnh S\n",
        "print(\"Duyệt tất cả các đỉnh từ S:\")\n",
        "dfs_all(graph, 'S')\n",
        "print()\n"
      ],
      "metadata": {
        "id": "yba6-FhLMXmu",
        "outputId": "544161c5-8f48-452e-e33a-3dcdcea6e401",
        "colab": {
          "base_uri": "https://localhost:8080/"
        }
      },
      "execution_count": null,
      "outputs": [
        {
          "output_type": "stream",
          "name": "stdout",
          "text": [
            "Duyệt tất cả các đỉnh từ S:\n",
            "S A C D B E J \n"
          ]
        }
      ]
    },
    {
      "cell_type": "code",
      "source": [],
      "metadata": {
        "id": "V4AHAd70mLhT"
      },
      "execution_count": null,
      "outputs": []
    },
    {
      "cell_type": "code",
      "source": [
        "def dfs_path(graph, start, goal, visited=None, path=None):\n",
        "    if visited is None:\n",
        "        visited = set()\n",
        "    if path is None:\n",
        "        path = []\n",
        "\n",
        "    visited.add(start)\n",
        "    path.append(start)\n",
        "\n",
        "    if start == goal:\n",
        "        return path.copy()  # Trả về bản sao của path nếu đã đến đích\n",
        "\n",
        "    for neighbor in graph[start]:\n",
        "        if neighbor not in visited:\n",
        "            result = dfs_path(graph, neighbor, goal, visited, path)\n",
        "            if result is not None:\n",
        "                return result  # Nếu tìm thấy đường đi, trả về đường đi\n",
        "\n",
        "    path.pop()  # Loại bỏ đỉnh khi không tìm thấy đường đi\n",
        "    return None  # Trả về None nếu không tìm thấy đường đi\n",
        "\n",
        "# Graph as a dictionary\n",
        "graph = {\n",
        "    'S': ['A', 'B'],\n",
        "    'A': ['S', 'C', 'D'],\n",
        "    'B': ['S', 'D', 'E'],\n",
        "    'C': ['A', 'D'],\n",
        "    'D': ['A', 'B', 'C', 'E'],\n",
        "    'E': ['B', 'D', 'J'],\n",
        "    'J': ['E']\n",
        "}\n",
        "\n",
        "# Tìm đường đi từ S đến J\n",
        "path_to_j = dfs_path(graph, 'S', 'J')\n",
        "print(\"Đường đi từ S đến J:\", path_to_j)\n"
      ],
      "metadata": {
        "id": "CuXubuGTMZ4B",
        "outputId": "e8b0c662-7a3a-47b5-9823-2d11ed9b59e1",
        "colab": {
          "base_uri": "https://localhost:8080/"
        }
      },
      "execution_count": null,
      "outputs": [
        {
          "output_type": "stream",
          "name": "stdout",
          "text": [
            "Đường đi từ S đến J: ['S', 'A', 'C', 'D', 'B', 'E', 'J']\n"
          ]
        }
      ]
    }
  ],
  "metadata": {
    "colab": {
      "provenance": [],
      "include_colab_link": true
    },
    "kernelspec": {
      "display_name": "Python 3",
      "name": "python3"
    }
  },
  "nbformat": 4,
  "nbformat_minor": 0
}